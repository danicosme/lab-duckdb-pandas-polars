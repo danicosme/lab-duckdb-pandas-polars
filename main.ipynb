{
 "cells": [
  {
   "cell_type": "code",
   "execution_count": 1,
   "metadata": {},
   "outputs": [],
   "source": [
    "import duckdb\n",
    "import pandas as pd\n",
    "import polars as pl"
   ]
  },
  {
   "cell_type": "code",
   "execution_count": 2,
   "metadata": {},
   "outputs": [],
   "source": [
    "csv_names_dir = 'data/input/names.csv'"
   ]
  },
  {
   "cell_type": "markdown",
   "metadata": {},
   "source": [
    "# Leitura de arquivo .csv"
   ]
  },
  {
   "cell_type": "code",
   "execution_count": 3,
   "metadata": {},
   "outputs": [],
   "source": [
    "df_pandas_names = pd.read_csv(csv_names_dir)"
   ]
  },
  {
   "cell_type": "code",
   "execution_count": 4,
   "metadata": {},
   "outputs": [],
   "source": [
    "df_polars_names = pl.read_csv(csv_names_dir)"
   ]
  },
  {
   "cell_type": "code",
   "execution_count": 5,
   "metadata": {},
   "outputs": [],
   "source": [
    "duckdb.sql(f\"\"\" DROP TABLE IF EXISTS df_duckdb_names;\n",
    " \"\"\")\n",
    "\n",
    "duckdb.sql(f\"\"\"\n",
    "                CREATE TABLE df_duckdb_names AS \n",
    "                SELECT * FROM '{csv_names_dir}'\n",
    "\"\"\")"
   ]
  },
  {
   "cell_type": "markdown",
   "metadata": {},
   "source": [
    "# Replace valores \\N"
   ]
  },
  {
   "cell_type": "markdown",
   "metadata": {},
   "source": [
    "Pandas"
   ]
  },
  {
   "cell_type": "code",
   "execution_count": 6,
   "metadata": {},
   "outputs": [
    {
     "name": "stdout",
     "output_type": "stream",
     "text": [
      "nconst:  0\n",
      "primaryName:  48\n",
      "birthYear:  12770823\n",
      "deathYear:  13166298\n",
      "primaryProfession:  2565021\n",
      "knownForTitles:  1470866\n"
     ]
    }
   ],
   "source": [
    "for column in df_pandas_names.columns:\n",
    "    print(f'{column}: ', df_pandas_names.query(f\"{column} == '\\\\\\\\N'\")[column].count())"
   ]
  },
  {
   "cell_type": "code",
   "execution_count": 7,
   "metadata": {},
   "outputs": [],
   "source": [
    "df_pandas_names = df_pandas_names.replace('\\\\\\\\N', None, regex=True)"
   ]
  },
  {
   "cell_type": "markdown",
   "metadata": {},
   "source": [
    "Polars"
   ]
  },
  {
   "cell_type": "code",
   "execution_count": 8,
   "metadata": {},
   "outputs": [
    {
     "name": "stdout",
     "output_type": "stream",
     "text": [
      "nconst:  shape: (1, 1)\n",
      "┌────────┐\n",
      "│ nconst │\n",
      "│ ---    │\n",
      "│ u32    │\n",
      "╞════════╡\n",
      "│ 0      │\n",
      "└────────┘\n",
      "primaryName:  shape: (1, 1)\n",
      "┌─────────────┐\n",
      "│ primaryName │\n",
      "│ ---         │\n",
      "│ u32         │\n",
      "╞═════════════╡\n",
      "│ 48          │\n",
      "└─────────────┘\n",
      "birthYear:  shape: (1, 1)\n",
      "┌───────────┐\n",
      "│ birthYear │\n",
      "│ ---       │\n",
      "│ u32       │\n",
      "╞═══════════╡\n",
      "│ 12770823  │\n",
      "└───────────┘\n",
      "deathYear:  shape: (1, 1)\n",
      "┌───────────┐\n",
      "│ deathYear │\n",
      "│ ---       │\n",
      "│ u32       │\n",
      "╞═══════════╡\n",
      "│ 13166298  │\n",
      "└───────────┘\n",
      "primaryProfession:  shape: (1, 1)\n",
      "┌───────────────────┐\n",
      "│ primaryProfession │\n",
      "│ ---               │\n",
      "│ u32               │\n",
      "╞═══════════════════╡\n",
      "│ 2565021           │\n",
      "└───────────────────┘\n",
      "knownForTitles:  shape: (1, 1)\n",
      "┌────────────────┐\n",
      "│ knownForTitles │\n",
      "│ ---            │\n",
      "│ u32            │\n",
      "╞════════════════╡\n",
      "│ 1470866        │\n",
      "└────────────────┘\n"
     ]
    }
   ],
   "source": [
    "for column in df_polars_names.columns:\n",
    "    print(f'{column}: ', df_polars_names.select(pl.col(column)).filter(pl.col(column) == '\\\\N').count())"
   ]
  },
  {
   "cell_type": "code",
   "execution_count": 9,
   "metadata": {},
   "outputs": [],
   "source": [
    "df_polars_names = df_polars_names.with_columns(pl.all().replace('\\\\N', None))"
   ]
  },
  {
   "cell_type": "markdown",
   "metadata": {},
   "source": [
    "DuckDB"
   ]
  },
  {
   "cell_type": "code",
   "execution_count": 10,
   "metadata": {},
   "outputs": [
    {
     "name": "stdout",
     "output_type": "stream",
     "text": [
      "┌────────┬─────────────┬───────────┬───────────┬───────────────────┬────────────────┐\n",
      "│ nconst │ primaryName │ birthYear │ deathYear │ primaryProfession │ knownForTitles │\n",
      "│ int128 │   int128    │  int128   │  int128   │      int128       │     int128     │\n",
      "├────────┼─────────────┼───────────┼───────────┼───────────────────┼────────────────┤\n",
      "│      0 │          48 │  12770823 │  13166298 │           2565021 │        1470866 │\n",
      "└────────┴─────────────┴───────────┴───────────┴───────────────────┴────────────────┘\n",
      "\n"
     ]
    }
   ],
   "source": [
    "duckdb.sql(\"\"\"\n",
    "    SELECT \n",
    "            SUM(CASE WHEN nconst             == '\\\\N' THEN 1 ELSE 0 END) AS nconst\n",
    "           ,SUM(CASE WHEN primaryName        == '\\\\N' THEN 1 ELSE 0 END) AS primaryName\n",
    "           ,SUM(CASE WHEN birthYear          == '\\\\N' THEN 1 ELSE 0 END) AS birthYear\n",
    "           ,SUM(CASE WHEN deathYear          == '\\\\N' THEN 1 ELSE 0 END) AS deathYear\n",
    "           ,SUM(CASE WHEN primaryProfession  == '\\\\N' THEN 1 ELSE 0 END) AS primaryProfession\n",
    "           ,SUM(CASE WHEN knownForTitles     == '\\\\N' THEN 1 ELSE 0 END) AS knownForTitles\n",
    "    FROM df_duckdb_names \n",
    "\"\"\").show()"
   ]
  },
  {
   "cell_type": "code",
   "execution_count": 11,
   "metadata": {},
   "outputs": [],
   "source": [
    "duckdb.sql(\"\"\"\n",
    "    UPDATE df_duckdb_names\n",
    "    SET \n",
    "           nconst               = CASE WHEN nconst              == '\\\\N' THEN NULL ELSE nconst END,\n",
    "           primaryName          = CASE WHEN primaryName         == '\\\\N' THEN NULL ELSE primaryName END,\n",
    "           birthYear            = CASE WHEN birthYear           == '\\\\N' THEN NULL ELSE birthYear END,\n",
    "           deathYear            = CASE WHEN deathYear           == '\\\\N' THEN NULL ELSE deathYear END,\n",
    "           primaryProfession    = CASE WHEN primaryProfession   == '\\\\N' THEN NULL ELSE primaryProfession END,\n",
    "           knownForTitles       = CASE WHEN knownForTitles      == '\\\\N' THEN NULL ELSE knownForTitles END;\n",
    "\"\"\")"
   ]
  },
  {
   "cell_type": "markdown",
   "metadata": {},
   "source": [
    "# Criando tabela profession"
   ]
  },
  {
   "cell_type": "markdown",
   "metadata": {},
   "source": [
    "Pandas"
   ]
  },
  {
   "cell_type": "code",
   "execution_count": 87,
   "metadata": {},
   "outputs": [],
   "source": [
    "df_pandas_profession = df_pandas_names[['nconst','primaryProfession']]"
   ]
  },
  {
   "cell_type": "code",
   "execution_count": 88,
   "metadata": {},
   "outputs": [
    {
     "name": "stderr",
     "output_type": "stream",
     "text": [
      "C:\\Users\\danic\\AppData\\Local\\Temp\\ipykernel_6852\\826471510.py:3: SettingWithCopyWarning: \n",
      "A value is trying to be set on a copy of a slice from a DataFrame.\n",
      "Try using .loc[row_indexer,col_indexer] = value instead\n",
      "\n",
      "See the caveats in the documentation: https://pandas.pydata.org/pandas-docs/stable/user_guide/indexing.html#returning-a-view-versus-a-copy\n",
      "  df_pandas_profession['profession1'] = profession[0]\n",
      "C:\\Users\\danic\\AppData\\Local\\Temp\\ipykernel_6852\\826471510.py:4: SettingWithCopyWarning: \n",
      "A value is trying to be set on a copy of a slice from a DataFrame.\n",
      "Try using .loc[row_indexer,col_indexer] = value instead\n",
      "\n",
      "See the caveats in the documentation: https://pandas.pydata.org/pandas-docs/stable/user_guide/indexing.html#returning-a-view-versus-a-copy\n",
      "  df_pandas_profession['profession2'] = profession[1]\n",
      "C:\\Users\\danic\\AppData\\Local\\Temp\\ipykernel_6852\\826471510.py:5: SettingWithCopyWarning: \n",
      "A value is trying to be set on a copy of a slice from a DataFrame.\n",
      "Try using .loc[row_indexer,col_indexer] = value instead\n",
      "\n",
      "See the caveats in the documentation: https://pandas.pydata.org/pandas-docs/stable/user_guide/indexing.html#returning-a-view-versus-a-copy\n",
      "  df_pandas_profession['profession3'] = profession[2]\n",
      "C:\\Users\\danic\\AppData\\Local\\Temp\\ipykernel_6852\\826471510.py:7: SettingWithCopyWarning: \n",
      "A value is trying to be set on a copy of a slice from a DataFrame\n",
      "\n",
      "See the caveats in the documentation: https://pandas.pydata.org/pandas-docs/stable/user_guide/indexing.html#returning-a-view-versus-a-copy\n",
      "  df_pandas_profession.drop(columns=['primaryProfession'], inplace=True)\n"
     ]
    }
   ],
   "source": [
    "profession = df_pandas_profession['primaryProfession'].str.split(',', expand=True)\n",
    "\n",
    "df_pandas_profession['profession1'] = profession[0]\n",
    "df_pandas_profession['profession2'] = profession[1]\n",
    "df_pandas_profession['profession3'] = profession[2]\n",
    "\n",
    "df_pandas_profession.drop(columns=['primaryProfession'], inplace=True)"
   ]
  },
  {
   "cell_type": "markdown",
   "metadata": {},
   "source": [
    "Polars"
   ]
  },
  {
   "cell_type": "code",
   "execution_count": 14,
   "metadata": {},
   "outputs": [],
   "source": [
    "df_polars_profession = df_polars_names.select(['nconst','primaryProfession']).with_columns(pl.col('primaryProfession').str.split(','))"
   ]
  },
  {
   "cell_type": "code",
   "execution_count": 15,
   "metadata": {},
   "outputs": [],
   "source": [
    "df_polars_profession = df_polars_profession.with_columns(\n",
    "    pl.col('primaryProfession').list.get(0).alias('profession1'),\n",
    "    pl.col('primaryProfession').list.get(1).alias('profession2'),\n",
    "    pl.col('primaryProfession').list.get(2).alias('profession3'),\n",
    ").select(['nconst','profession1','profession2','profession3'])"
   ]
  },
  {
   "cell_type": "markdown",
   "metadata": {},
   "source": [
    "DuckDB"
   ]
  },
  {
   "cell_type": "code",
   "execution_count": 16,
   "metadata": {},
   "outputs": [],
   "source": [
    "duckdb.sql(\"\"\"\n",
    "    CREATE TABLE IF NOT EXISTS df_duckdb_profession AS\n",
    "    SELECT \n",
    "           nconst,\n",
    "           SPLIT_PART(primaryProfession, ',', 1) AS profession1,\n",
    "           SPLIT_PART(primaryProfession, ',', 2) AS profession2,\n",
    "           SPLIT_PART(primaryProfession, ',', 3) AS profession3\n",
    "    FROM df_duckdb_names\n",
    "\"\"\")"
   ]
  },
  {
   "cell_type": "markdown",
   "metadata": {},
   "source": [
    "# Join"
   ]
  },
  {
   "cell_type": "markdown",
   "metadata": {},
   "source": [
    "Pandas"
   ]
  },
  {
   "cell_type": "code",
   "execution_count": 30,
   "metadata": {},
   "outputs": [
    {
     "data": {
      "text/html": [
       "<div>\n",
       "<style scoped>\n",
       "    .dataframe tbody tr th:only-of-type {\n",
       "        vertical-align: middle;\n",
       "    }\n",
       "\n",
       "    .dataframe tbody tr th {\n",
       "        vertical-align: top;\n",
       "    }\n",
       "\n",
       "    .dataframe thead th {\n",
       "        text-align: right;\n",
       "    }\n",
       "</style>\n",
       "<table border=\"1\" class=\"dataframe\">\n",
       "  <thead>\n",
       "    <tr style=\"text-align: right;\">\n",
       "      <th></th>\n",
       "      <th>nconst</th>\n",
       "      <th>profession1</th>\n",
       "      <th>profession2</th>\n",
       "      <th>profession3</th>\n",
       "    </tr>\n",
       "  </thead>\n",
       "  <tbody>\n",
       "    <tr>\n",
       "      <th>0</th>\n",
       "      <td>nm0000001</td>\n",
       "      <td>actor</td>\n",
       "      <td>miscellaneous</td>\n",
       "      <td>producer</td>\n",
       "    </tr>\n",
       "    <tr>\n",
       "      <th>1</th>\n",
       "      <td>nm0000002</td>\n",
       "      <td>actress</td>\n",
       "      <td>soundtrack</td>\n",
       "      <td>archive_footage</td>\n",
       "    </tr>\n",
       "    <tr>\n",
       "      <th>2</th>\n",
       "      <td>nm0000003</td>\n",
       "      <td>actress</td>\n",
       "      <td>music_department</td>\n",
       "      <td>producer</td>\n",
       "    </tr>\n",
       "    <tr>\n",
       "      <th>3</th>\n",
       "      <td>nm0000004</td>\n",
       "      <td>actor</td>\n",
       "      <td>writer</td>\n",
       "      <td>music_department</td>\n",
       "    </tr>\n",
       "    <tr>\n",
       "      <th>4</th>\n",
       "      <td>nm0000005</td>\n",
       "      <td>writer</td>\n",
       "      <td>director</td>\n",
       "      <td>actor</td>\n",
       "    </tr>\n",
       "    <tr>\n",
       "      <th>...</th>\n",
       "      <td>...</td>\n",
       "      <td>...</td>\n",
       "      <td>...</td>\n",
       "      <td>...</td>\n",
       "    </tr>\n",
       "    <tr>\n",
       "      <th>13393223</th>\n",
       "      <td>nm9993714</td>\n",
       "      <td>animation_department</td>\n",
       "      <td>art_department</td>\n",
       "      <td>None</td>\n",
       "    </tr>\n",
       "    <tr>\n",
       "      <th>13393224</th>\n",
       "      <td>nm9993716</td>\n",
       "      <td>None</td>\n",
       "      <td>None</td>\n",
       "      <td>None</td>\n",
       "    </tr>\n",
       "    <tr>\n",
       "      <th>13393225</th>\n",
       "      <td>nm9993717</td>\n",
       "      <td>cinematographer</td>\n",
       "      <td>None</td>\n",
       "      <td>None</td>\n",
       "    </tr>\n",
       "    <tr>\n",
       "      <th>13393226</th>\n",
       "      <td>nm9993718</td>\n",
       "      <td>cinematographer</td>\n",
       "      <td>None</td>\n",
       "      <td>None</td>\n",
       "    </tr>\n",
       "    <tr>\n",
       "      <th>13393227</th>\n",
       "      <td>nm9993719</td>\n",
       "      <td>None</td>\n",
       "      <td>None</td>\n",
       "      <td>None</td>\n",
       "    </tr>\n",
       "  </tbody>\n",
       "</table>\n",
       "<p>13393228 rows × 4 columns</p>\n",
       "</div>"
      ],
      "text/plain": [
       "             nconst           profession1       profession2       profession3\n",
       "0         nm0000001                 actor     miscellaneous          producer\n",
       "1         nm0000002               actress        soundtrack   archive_footage\n",
       "2         nm0000003               actress  music_department          producer\n",
       "3         nm0000004                 actor            writer  music_department\n",
       "4         nm0000005                writer          director             actor\n",
       "...             ...                   ...               ...               ...\n",
       "13393223  nm9993714  animation_department    art_department              None\n",
       "13393224  nm9993716                  None              None              None\n",
       "13393225  nm9993717       cinematographer              None              None\n",
       "13393226  nm9993718       cinematographer              None              None\n",
       "13393227  nm9993719                  None              None              None\n",
       "\n",
       "[13393228 rows x 4 columns]"
      ]
     },
     "execution_count": 30,
     "metadata": {},
     "output_type": "execute_result"
    }
   ],
   "source": [
    "df_pandas_names.merge(df_pandas_profession, on='nconst')[['nconst','profession1','profession2','profession3']]"
   ]
  },
  {
   "cell_type": "markdown",
   "metadata": {},
   "source": [
    "Polars"
   ]
  },
  {
   "cell_type": "code",
   "execution_count": 28,
   "metadata": {},
   "outputs": [
    {
     "data": {
      "text/html": [
       "<div><style>\n",
       ".dataframe > thead > tr,\n",
       ".dataframe > tbody > tr {\n",
       "  text-align: right;\n",
       "  white-space: pre-wrap;\n",
       "}\n",
       "</style>\n",
       "<small>shape: (13_393_228, 4)</small><table border=\"1\" class=\"dataframe\"><thead><tr><th>nconst</th><th>profession1</th><th>profession2</th><th>profession3</th></tr><tr><td>str</td><td>str</td><td>str</td><td>str</td></tr></thead><tbody><tr><td>&quot;nm0000001&quot;</td><td>&quot;actor&quot;</td><td>&quot;miscellaneous&quot;</td><td>&quot;producer&quot;</td></tr><tr><td>&quot;nm0000002&quot;</td><td>&quot;actress&quot;</td><td>&quot;soundtrack&quot;</td><td>&quot;archive_footage&quot;</td></tr><tr><td>&quot;nm0000003&quot;</td><td>&quot;actress&quot;</td><td>&quot;music_department&quot;</td><td>&quot;producer&quot;</td></tr><tr><td>&quot;nm0000004&quot;</td><td>&quot;actor&quot;</td><td>&quot;writer&quot;</td><td>&quot;music_department&quot;</td></tr><tr><td>&quot;nm0000005&quot;</td><td>&quot;writer&quot;</td><td>&quot;director&quot;</td><td>&quot;actor&quot;</td></tr><tr><td>&hellip;</td><td>&hellip;</td><td>&hellip;</td><td>&hellip;</td></tr><tr><td>&quot;nm9993714&quot;</td><td>&quot;animation_department&quot;</td><td>&quot;art_department&quot;</td><td>null</td></tr><tr><td>&quot;nm9993716&quot;</td><td>null</td><td>null</td><td>null</td></tr><tr><td>&quot;nm9993717&quot;</td><td>&quot;cinematographer&quot;</td><td>null</td><td>null</td></tr><tr><td>&quot;nm9993718&quot;</td><td>&quot;cinematographer&quot;</td><td>null</td><td>null</td></tr><tr><td>&quot;nm9993719&quot;</td><td>null</td><td>null</td><td>null</td></tr></tbody></table></div>"
      ],
      "text/plain": [
       "shape: (13_393_228, 4)\n",
       "┌───────────┬──────────────────────┬──────────────────┬──────────────────┐\n",
       "│ nconst    ┆ profession1          ┆ profession2      ┆ profession3      │\n",
       "│ ---       ┆ ---                  ┆ ---              ┆ ---              │\n",
       "│ str       ┆ str                  ┆ str              ┆ str              │\n",
       "╞═══════════╪══════════════════════╪══════════════════╪══════════════════╡\n",
       "│ nm0000001 ┆ actor                ┆ miscellaneous    ┆ producer         │\n",
       "│ nm0000002 ┆ actress              ┆ soundtrack       ┆ archive_footage  │\n",
       "│ nm0000003 ┆ actress              ┆ music_department ┆ producer         │\n",
       "│ nm0000004 ┆ actor                ┆ writer           ┆ music_department │\n",
       "│ nm0000005 ┆ writer               ┆ director         ┆ actor            │\n",
       "│ …         ┆ …                    ┆ …                ┆ …                │\n",
       "│ nm9993714 ┆ animation_department ┆ art_department   ┆ null             │\n",
       "│ nm9993716 ┆ null                 ┆ null             ┆ null             │\n",
       "│ nm9993717 ┆ cinematographer      ┆ null             ┆ null             │\n",
       "│ nm9993718 ┆ cinematographer      ┆ null             ┆ null             │\n",
       "│ nm9993719 ┆ null                 ┆ null             ┆ null             │\n",
       "└───────────┴──────────────────────┴──────────────────┴──────────────────┘"
      ]
     },
     "execution_count": 28,
     "metadata": {},
     "output_type": "execute_result"
    }
   ],
   "source": [
    "df_polars_names.join(df_polars_profession, on='nconst').select(['nconst','profession1','profession2','profession3'])"
   ]
  },
  {
   "cell_type": "markdown",
   "metadata": {},
   "source": [
    "DuckDB"
   ]
  },
  {
   "cell_type": "code",
   "execution_count": 19,
   "metadata": {},
   "outputs": [
    {
     "name": "stdout",
     "output_type": "stream",
     "text": [
      "┌───────────┬───────────────────────────┬─────────────────┬──────────────────────┐\n",
      "│  nconst   │        profession1        │   profession2   │     profession3      │\n",
      "│  varchar  │          varchar          │     varchar     │       varchar        │\n",
      "├───────────┼───────────────────────────┼─────────────────┼──────────────────────┤\n",
      "│ nm0654525 │ actor                     │                 │                      │\n",
      "│ nm0654526 │ miscellaneous             │ writer          │ actor                │\n",
      "│ nm0654528 │ actor                     │                 │                      │\n",
      "│ nm0654530 │ actor                     │ archive_footage │                      │\n",
      "│ nm0654531 │ actor                     │ writer          │ producer             │\n",
      "│ nm0654532 │ director                  │ writer          │ assistant_director   │\n",
      "│ nm0654534 │ actor                     │                 │                      │\n",
      "│ nm0654535 │ director                  │ producer        │ writer               │\n",
      "│ nm0654536 │ actor                     │                 │                      │\n",
      "│ nm0654537 │ miscellaneous             │ producer        │ editorial_department │\n",
      "│     ·     │       ·                   │   ·             │          ·           │\n",
      "│     ·     │       ·                   │   ·             │          ·           │\n",
      "│     ·     │       ·                   │   ·             │          ·           │\n",
      "│ nm0392014 │ transportation_department │ actor           │                      │\n",
      "│ nm0392015 │ actor                     │                 │                      │\n",
      "│ nm0392016 │ archive_footage           │                 │                      │\n",
      "│ nm0392017 │ art_department            │ art_director    │                      │\n",
      "│ nm0392018 │ actor                     │ soundtrack      │                      │\n",
      "│ nm0392019 │ music_department          │ composer        │ actor                │\n",
      "│ nm0392020 │ producer                  │ actor           │ writer               │\n",
      "│ nm0392021 │ actor                     │                 │                      │\n",
      "│ nm0392022 │ actor                     │                 │                      │\n",
      "│ nm0392023 │ actor                     │                 │                      │\n",
      "├───────────┴───────────────────────────┴─────────────────┴──────────────────────┤\n",
      "│ ? rows (>9999 rows, 20 shown)                                        4 columns │\n",
      "└────────────────────────────────────────────────────────────────────────────────┘\n",
      "\n"
     ]
    }
   ],
   "source": [
    "duckdb.sql(\"\"\"\n",
    "    SELECT \n",
    "        n.nconst,\n",
    "        p.profession1,\n",
    "        p.profession2,\n",
    "        p.profession3\n",
    "    FROM df_duckdb_names n\n",
    "    JOIN df_duckdb_profession p\n",
    "    ON n.nconst = p.nconst\n",
    "\"\"\").show()"
   ]
  },
  {
   "cell_type": "markdown",
   "metadata": {},
   "source": [
    "# Funções agregadas"
   ]
  },
  {
   "cell_type": "markdown",
   "metadata": {},
   "source": [
    "Pandas"
   ]
  },
  {
   "cell_type": "code",
   "execution_count": 89,
   "metadata": {},
   "outputs": [
    {
     "data": {
      "text/html": [
       "<div>\n",
       "<style scoped>\n",
       "    .dataframe tbody tr th:only-of-type {\n",
       "        vertical-align: middle;\n",
       "    }\n",
       "\n",
       "    .dataframe tbody tr th {\n",
       "        vertical-align: top;\n",
       "    }\n",
       "\n",
       "    .dataframe thead th {\n",
       "        text-align: right;\n",
       "    }\n",
       "</style>\n",
       "<table border=\"1\" class=\"dataframe\">\n",
       "  <thead>\n",
       "    <tr style=\"text-align: right;\">\n",
       "      <th></th>\n",
       "      <th>profession1</th>\n",
       "      <th>count</th>\n",
       "    </tr>\n",
       "  </thead>\n",
       "  <tbody>\n",
       "    <tr>\n",
       "      <th>1</th>\n",
       "      <td>actor</td>\n",
       "      <td>2858675</td>\n",
       "    </tr>\n",
       "    <tr>\n",
       "      <th>2</th>\n",
       "      <td>actress</td>\n",
       "      <td>1791469</td>\n",
       "    </tr>\n",
       "    <tr>\n",
       "      <th>27</th>\n",
       "      <td>miscellaneous</td>\n",
       "      <td>946561</td>\n",
       "    </tr>\n",
       "    <tr>\n",
       "      <th>31</th>\n",
       "      <td>producer</td>\n",
       "      <td>701190</td>\n",
       "    </tr>\n",
       "    <tr>\n",
       "      <th>10</th>\n",
       "      <td>camera_department</td>\n",
       "      <td>595239</td>\n",
       "    </tr>\n",
       "    <tr>\n",
       "      <th>18</th>\n",
       "      <td>director</td>\n",
       "      <td>419889</td>\n",
       "    </tr>\n",
       "    <tr>\n",
       "      <th>45</th>\n",
       "      <td>writer</td>\n",
       "      <td>384036</td>\n",
       "    </tr>\n",
       "    <tr>\n",
       "      <th>6</th>\n",
       "      <td>art_department</td>\n",
       "      <td>354949</td>\n",
       "    </tr>\n",
       "    <tr>\n",
       "      <th>38</th>\n",
       "      <td>sound_department</td>\n",
       "      <td>279346</td>\n",
       "    </tr>\n",
       "    <tr>\n",
       "      <th>15</th>\n",
       "      <td>composer</td>\n",
       "      <td>244672</td>\n",
       "    </tr>\n",
       "    <tr>\n",
       "      <th>14</th>\n",
       "      <td>cinematographer</td>\n",
       "      <td>218745</td>\n",
       "    </tr>\n",
       "    <tr>\n",
       "      <th>25</th>\n",
       "      <td>make_up_department</td>\n",
       "      <td>192393</td>\n",
       "    </tr>\n",
       "    <tr>\n",
       "      <th>44</th>\n",
       "      <td>visual_effects</td>\n",
       "      <td>184390</td>\n",
       "    </tr>\n",
       "    <tr>\n",
       "      <th>29</th>\n",
       "      <td>music_department</td>\n",
       "      <td>181669</td>\n",
       "    </tr>\n",
       "    <tr>\n",
       "      <th>19</th>\n",
       "      <td>editor</td>\n",
       "      <td>177943</td>\n",
       "    </tr>\n",
       "    <tr>\n",
       "      <th>3</th>\n",
       "      <td>animation_department</td>\n",
       "      <td>167832</td>\n",
       "    </tr>\n",
       "    <tr>\n",
       "      <th>9</th>\n",
       "      <td>assistant_director</td>\n",
       "      <td>145152</td>\n",
       "    </tr>\n",
       "    <tr>\n",
       "      <th>16</th>\n",
       "      <td>costume_department</td>\n",
       "      <td>116282</td>\n",
       "    </tr>\n",
       "    <tr>\n",
       "      <th>34</th>\n",
       "      <td>production_manager</td>\n",
       "      <td>108824</td>\n",
       "    </tr>\n",
       "    <tr>\n",
       "      <th>20</th>\n",
       "      <td>editorial_department</td>\n",
       "      <td>105995</td>\n",
       "    </tr>\n",
       "    <tr>\n",
       "      <th>4</th>\n",
       "      <td>archive_footage</td>\n",
       "      <td>94174</td>\n",
       "    </tr>\n",
       "    <tr>\n",
       "      <th>43</th>\n",
       "      <td>transportation_department</td>\n",
       "      <td>82787</td>\n",
       "    </tr>\n",
       "    <tr>\n",
       "      <th>41</th>\n",
       "      <td>stunts</td>\n",
       "      <td>55530</td>\n",
       "    </tr>\n",
       "    <tr>\n",
       "      <th>24</th>\n",
       "      <td>location_management</td>\n",
       "      <td>51814</td>\n",
       "    </tr>\n",
       "    <tr>\n",
       "      <th>7</th>\n",
       "      <td>art_director</td>\n",
       "      <td>46248</td>\n",
       "    </tr>\n",
       "    <tr>\n",
       "      <th>36</th>\n",
       "      <td>script_department</td>\n",
       "      <td>45492</td>\n",
       "    </tr>\n",
       "    <tr>\n",
       "      <th>17</th>\n",
       "      <td>costume_designer</td>\n",
       "      <td>42466</td>\n",
       "    </tr>\n",
       "    <tr>\n",
       "      <th>40</th>\n",
       "      <td>special_effects</td>\n",
       "      <td>40511</td>\n",
       "    </tr>\n",
       "    <tr>\n",
       "      <th>33</th>\n",
       "      <td>production_designer</td>\n",
       "      <td>39444</td>\n",
       "    </tr>\n",
       "    <tr>\n",
       "      <th>39</th>\n",
       "      <td>soundtrack</td>\n",
       "      <td>35357</td>\n",
       "    </tr>\n",
       "    <tr>\n",
       "      <th>11</th>\n",
       "      <td>casting_department</td>\n",
       "      <td>30647</td>\n",
       "    </tr>\n",
       "    <tr>\n",
       "      <th>37</th>\n",
       "      <td>set_decorator</td>\n",
       "      <td>25002</td>\n",
       "    </tr>\n",
       "    <tr>\n",
       "      <th>22</th>\n",
       "      <td>executive</td>\n",
       "      <td>18272</td>\n",
       "    </tr>\n",
       "    <tr>\n",
       "      <th>12</th>\n",
       "      <td>casting_director</td>\n",
       "      <td>13984</td>\n",
       "    </tr>\n",
       "    <tr>\n",
       "      <th>42</th>\n",
       "      <td>talent_agent</td>\n",
       "      <td>10278</td>\n",
       "    </tr>\n",
       "    <tr>\n",
       "      <th>26</th>\n",
       "      <td>manager</td>\n",
       "      <td>8271</td>\n",
       "    </tr>\n",
       "    <tr>\n",
       "      <th>28</th>\n",
       "      <td>music_artist</td>\n",
       "      <td>3819</td>\n",
       "    </tr>\n",
       "    <tr>\n",
       "      <th>35</th>\n",
       "      <td>publicist</td>\n",
       "      <td>2869</td>\n",
       "    </tr>\n",
       "    <tr>\n",
       "      <th>23</th>\n",
       "      <td>legal</td>\n",
       "      <td>2722</td>\n",
       "    </tr>\n",
       "    <tr>\n",
       "      <th>8</th>\n",
       "      <td>assistant</td>\n",
       "      <td>1816</td>\n",
       "    </tr>\n",
       "    <tr>\n",
       "      <th>5</th>\n",
       "      <td>archive_sound</td>\n",
       "      <td>984</td>\n",
       "    </tr>\n",
       "    <tr>\n",
       "      <th>30</th>\n",
       "      <td>podcaster</td>\n",
       "      <td>264</td>\n",
       "    </tr>\n",
       "    <tr>\n",
       "      <th>32</th>\n",
       "      <td>production_department</td>\n",
       "      <td>104</td>\n",
       "    </tr>\n",
       "    <tr>\n",
       "      <th>13</th>\n",
       "      <td>choreographer</td>\n",
       "      <td>73</td>\n",
       "    </tr>\n",
       "    <tr>\n",
       "      <th>0</th>\n",
       "      <td>accountant</td>\n",
       "      <td>15</td>\n",
       "    </tr>\n",
       "    <tr>\n",
       "      <th>21</th>\n",
       "      <td>electrical_department</td>\n",
       "      <td>13</td>\n",
       "    </tr>\n",
       "  </tbody>\n",
       "</table>\n",
       "</div>"
      ],
      "text/plain": [
       "                  profession1    count\n",
       "1                       actor  2858675\n",
       "2                     actress  1791469\n",
       "27              miscellaneous   946561\n",
       "31                   producer   701190\n",
       "10          camera_department   595239\n",
       "18                   director   419889\n",
       "45                     writer   384036\n",
       "6              art_department   354949\n",
       "38           sound_department   279346\n",
       "15                   composer   244672\n",
       "14            cinematographer   218745\n",
       "25         make_up_department   192393\n",
       "44             visual_effects   184390\n",
       "29           music_department   181669\n",
       "19                     editor   177943\n",
       "3        animation_department   167832\n",
       "9          assistant_director   145152\n",
       "16         costume_department   116282\n",
       "34         production_manager   108824\n",
       "20       editorial_department   105995\n",
       "4             archive_footage    94174\n",
       "43  transportation_department    82787\n",
       "41                     stunts    55530\n",
       "24        location_management    51814\n",
       "7                art_director    46248\n",
       "36          script_department    45492\n",
       "17           costume_designer    42466\n",
       "40            special_effects    40511\n",
       "33        production_designer    39444\n",
       "39                 soundtrack    35357\n",
       "11         casting_department    30647\n",
       "37              set_decorator    25002\n",
       "22                  executive    18272\n",
       "12           casting_director    13984\n",
       "42               talent_agent    10278\n",
       "26                    manager     8271\n",
       "28               music_artist     3819\n",
       "35                  publicist     2869\n",
       "23                      legal     2722\n",
       "8                   assistant     1816\n",
       "5               archive_sound      984\n",
       "30                  podcaster      264\n",
       "32      production_department      104\n",
       "13              choreographer       73\n",
       "0                  accountant       15\n",
       "21      electrical_department       13"
      ]
     },
     "execution_count": 89,
     "metadata": {},
     "output_type": "execute_result"
    }
   ],
   "source": [
    "df_pandas_profession[['profession1']].groupby('profession1').size().reset_index(name='count').sort_values(by='count', ascending=False)"
   ]
  },
  {
   "cell_type": "markdown",
   "metadata": {},
   "source": [
    "Polars"
   ]
  },
  {
   "cell_type": "code",
   "execution_count": 59,
   "metadata": {},
   "outputs": [
    {
     "data": {
      "text/html": [
       "<div><style>\n",
       ".dataframe > thead > tr,\n",
       ".dataframe > tbody > tr {\n",
       "  text-align: right;\n",
       "  white-space: pre-wrap;\n",
       "}\n",
       "</style>\n",
       "<small>shape: (47, 2)</small><table border=\"1\" class=\"dataframe\"><thead><tr><th>profession1</th><th>count</th></tr><tr><td>str</td><td>u32</td></tr></thead><tbody><tr><td>&quot;actor&quot;</td><td>2858675</td></tr><tr><td>null</td><td>2565021</td></tr><tr><td>&quot;actress&quot;</td><td>1791469</td></tr><tr><td>&quot;miscellaneous&quot;</td><td>946561</td></tr><tr><td>&quot;producer&quot;</td><td>701190</td></tr><tr><td>&hellip;</td><td>&hellip;</td></tr><tr><td>&quot;podcaster&quot;</td><td>264</td></tr><tr><td>&quot;production_department&quot;</td><td>104</td></tr><tr><td>&quot;choreographer&quot;</td><td>73</td></tr><tr><td>&quot;accountant&quot;</td><td>15</td></tr><tr><td>&quot;electrical_department&quot;</td><td>13</td></tr></tbody></table></div>"
      ],
      "text/plain": [
       "shape: (47, 2)\n",
       "┌───────────────────────┬─────────┐\n",
       "│ profession1           ┆ count   │\n",
       "│ ---                   ┆ ---     │\n",
       "│ str                   ┆ u32     │\n",
       "╞═══════════════════════╪═════════╡\n",
       "│ actor                 ┆ 2858675 │\n",
       "│ null                  ┆ 2565021 │\n",
       "│ actress               ┆ 1791469 │\n",
       "│ miscellaneous         ┆ 946561  │\n",
       "│ producer              ┆ 701190  │\n",
       "│ …                     ┆ …       │\n",
       "│ podcaster             ┆ 264     │\n",
       "│ production_department ┆ 104     │\n",
       "│ choreographer         ┆ 73      │\n",
       "│ accountant            ┆ 15      │\n",
       "│ electrical_department ┆ 13      │\n",
       "└───────────────────────┴─────────┘"
      ]
     },
     "execution_count": 59,
     "metadata": {},
     "output_type": "execute_result"
    }
   ],
   "source": [
    "df_polars_profession.select('profession1').group_by('profession1').len(name='count').sort('count', descending=True)"
   ]
  },
  {
   "cell_type": "markdown",
   "metadata": {},
   "source": [
    "DuckDB"
   ]
  },
  {
   "cell_type": "code",
   "execution_count": 79,
   "metadata": {},
   "outputs": [
    {
     "name": "stdout",
     "output_type": "stream",
     "text": [
      "┌───────────────────────┬─────────┐\n",
      "│      profession1      │  count  │\n",
      "│        varchar        │  int64  │\n",
      "├───────────────────────┼─────────┤\n",
      "│ actor                 │ 2858675 │\n",
      "│                       │ 2565021 │\n",
      "│ actress               │ 1791469 │\n",
      "│ miscellaneous         │  946561 │\n",
      "│ producer              │  701190 │\n",
      "│ camera_department     │  595239 │\n",
      "│ director              │  419889 │\n",
      "│ writer                │  384036 │\n",
      "│ art_department        │  354949 │\n",
      "│ sound_department      │  279346 │\n",
      "│      ·                │      ·  │\n",
      "│      ·                │      ·  │\n",
      "│      ·                │      ·  │\n",
      "│ music_artist          │    3819 │\n",
      "│ publicist             │    2869 │\n",
      "│ legal                 │    2722 │\n",
      "│ assistant             │    1816 │\n",
      "│ archive_sound         │     984 │\n",
      "│ podcaster             │     264 │\n",
      "│ production_department │     104 │\n",
      "│ choreographer         │      73 │\n",
      "│ accountant            │      15 │\n",
      "│ electrical_department │      13 │\n",
      "├───────────────────────┴─────────┤\n",
      "│ 47 rows (20 shown)    2 columns │\n",
      "└─────────────────────────────────┘\n",
      "\n"
     ]
    }
   ],
   "source": [
    "duckdb.sql(\"\"\"\n",
    "    SELECT \n",
    "        profession1,\n",
    "        count(1) as count\n",
    "    FROM df_duckdb_profession \n",
    "    GROUP BY 1\n",
    "    ORDER BY 2 DESC\n",
    "\"\"\").show()"
   ]
  },
  {
   "cell_type": "markdown",
   "metadata": {},
   "source": [
    "# Amostra"
   ]
  },
  {
   "cell_type": "code",
   "execution_count": 17,
   "metadata": {},
   "outputs": [
    {
     "data": {
      "text/html": [
       "<div>\n",
       "<style scoped>\n",
       "    .dataframe tbody tr th:only-of-type {\n",
       "        vertical-align: middle;\n",
       "    }\n",
       "\n",
       "    .dataframe tbody tr th {\n",
       "        vertical-align: top;\n",
       "    }\n",
       "\n",
       "    .dataframe thead th {\n",
       "        text-align: right;\n",
       "    }\n",
       "</style>\n",
       "<table border=\"1\" class=\"dataframe\">\n",
       "  <thead>\n",
       "    <tr style=\"text-align: right;\">\n",
       "      <th></th>\n",
       "      <th>nconst</th>\n",
       "      <th>primaryName</th>\n",
       "      <th>birthYear</th>\n",
       "      <th>deathYear</th>\n",
       "      <th>primaryProfession</th>\n",
       "      <th>knownForTitles</th>\n",
       "    </tr>\n",
       "  </thead>\n",
       "  <tbody>\n",
       "    <tr>\n",
       "      <th>0</th>\n",
       "      <td>nm0000001</td>\n",
       "      <td>Fred Astaire</td>\n",
       "      <td>1899</td>\n",
       "      <td>1987</td>\n",
       "      <td>actor,miscellaneous,producer</td>\n",
       "      <td>tt0072308,tt0050419,tt0053137,tt0027125</td>\n",
       "    </tr>\n",
       "    <tr>\n",
       "      <th>1</th>\n",
       "      <td>nm0000002</td>\n",
       "      <td>Lauren Bacall</td>\n",
       "      <td>1924</td>\n",
       "      <td>2014</td>\n",
       "      <td>actress,soundtrack,archive_footage</td>\n",
       "      <td>tt0037382,tt0075213,tt0117057,tt0038355</td>\n",
       "    </tr>\n",
       "    <tr>\n",
       "      <th>2</th>\n",
       "      <td>nm0000003</td>\n",
       "      <td>Brigitte Bardot</td>\n",
       "      <td>1934</td>\n",
       "      <td>None</td>\n",
       "      <td>actress,music_department,producer</td>\n",
       "      <td>tt0057345,tt0049189,tt0056404,tt0054452</td>\n",
       "    </tr>\n",
       "    <tr>\n",
       "      <th>3</th>\n",
       "      <td>nm0000004</td>\n",
       "      <td>John Belushi</td>\n",
       "      <td>1949</td>\n",
       "      <td>1982</td>\n",
       "      <td>actor,writer,music_department</td>\n",
       "      <td>tt0072562,tt0077975,tt0080455,tt0078723</td>\n",
       "    </tr>\n",
       "    <tr>\n",
       "      <th>4</th>\n",
       "      <td>nm0000005</td>\n",
       "      <td>Ingmar Bergman</td>\n",
       "      <td>1918</td>\n",
       "      <td>2007</td>\n",
       "      <td>writer,director,actor</td>\n",
       "      <td>tt0050986,tt0083922,tt0050976,tt0069467</td>\n",
       "    </tr>\n",
       "  </tbody>\n",
       "</table>\n",
       "</div>"
      ],
      "text/plain": [
       "      nconst      primaryName birthYear deathYear  \\\n",
       "0  nm0000001     Fred Astaire      1899      1987   \n",
       "1  nm0000002    Lauren Bacall      1924      2014   \n",
       "2  nm0000003  Brigitte Bardot      1934      None   \n",
       "3  nm0000004     John Belushi      1949      1982   \n",
       "4  nm0000005   Ingmar Bergman      1918      2007   \n",
       "\n",
       "                    primaryProfession                           knownForTitles  \n",
       "0        actor,miscellaneous,producer  tt0072308,tt0050419,tt0053137,tt0027125  \n",
       "1  actress,soundtrack,archive_footage  tt0037382,tt0075213,tt0117057,tt0038355  \n",
       "2   actress,music_department,producer  tt0057345,tt0049189,tt0056404,tt0054452  \n",
       "3       actor,writer,music_department  tt0072562,tt0077975,tt0080455,tt0078723  \n",
       "4               writer,director,actor  tt0050986,tt0083922,tt0050976,tt0069467  "
      ]
     },
     "execution_count": 17,
     "metadata": {},
     "output_type": "execute_result"
    }
   ],
   "source": [
    "df_pandas_names.head(5)"
   ]
  },
  {
   "cell_type": "code",
   "execution_count": 18,
   "metadata": {},
   "outputs": [
    {
     "data": {
      "text/html": [
       "<div>\n",
       "<style scoped>\n",
       "    .dataframe tbody tr th:only-of-type {\n",
       "        vertical-align: middle;\n",
       "    }\n",
       "\n",
       "    .dataframe tbody tr th {\n",
       "        vertical-align: top;\n",
       "    }\n",
       "\n",
       "    .dataframe thead th {\n",
       "        text-align: right;\n",
       "    }\n",
       "</style>\n",
       "<table border=\"1\" class=\"dataframe\">\n",
       "  <thead>\n",
       "    <tr style=\"text-align: right;\">\n",
       "      <th></th>\n",
       "      <th>nconst</th>\n",
       "      <th>profession1</th>\n",
       "      <th>profession2</th>\n",
       "      <th>profession3</th>\n",
       "    </tr>\n",
       "  </thead>\n",
       "  <tbody>\n",
       "    <tr>\n",
       "      <th>0</th>\n",
       "      <td>nm0000001</td>\n",
       "      <td>actor</td>\n",
       "      <td>miscellaneous</td>\n",
       "      <td>producer</td>\n",
       "    </tr>\n",
       "    <tr>\n",
       "      <th>1</th>\n",
       "      <td>nm0000002</td>\n",
       "      <td>actress</td>\n",
       "      <td>soundtrack</td>\n",
       "      <td>archive_footage</td>\n",
       "    </tr>\n",
       "    <tr>\n",
       "      <th>2</th>\n",
       "      <td>nm0000003</td>\n",
       "      <td>actress</td>\n",
       "      <td>music_department</td>\n",
       "      <td>producer</td>\n",
       "    </tr>\n",
       "    <tr>\n",
       "      <th>3</th>\n",
       "      <td>nm0000004</td>\n",
       "      <td>actor</td>\n",
       "      <td>writer</td>\n",
       "      <td>music_department</td>\n",
       "    </tr>\n",
       "    <tr>\n",
       "      <th>4</th>\n",
       "      <td>nm0000005</td>\n",
       "      <td>writer</td>\n",
       "      <td>director</td>\n",
       "      <td>actor</td>\n",
       "    </tr>\n",
       "  </tbody>\n",
       "</table>\n",
       "</div>"
      ],
      "text/plain": [
       "      nconst profession1       profession2       profession3\n",
       "0  nm0000001       actor     miscellaneous          producer\n",
       "1  nm0000002     actress        soundtrack   archive_footage\n",
       "2  nm0000003     actress  music_department          producer\n",
       "3  nm0000004       actor            writer  music_department\n",
       "4  nm0000005      writer          director             actor"
      ]
     },
     "execution_count": 18,
     "metadata": {},
     "output_type": "execute_result"
    }
   ],
   "source": [
    "df_pandas_profession.head(5)"
   ]
  },
  {
   "cell_type": "code",
   "execution_count": 19,
   "metadata": {},
   "outputs": [
    {
     "data": {
      "text/html": [
       "<div><style>\n",
       ".dataframe > thead > tr,\n",
       ".dataframe > tbody > tr {\n",
       "  text-align: right;\n",
       "  white-space: pre-wrap;\n",
       "}\n",
       "</style>\n",
       "<small>shape: (5, 6)</small><table border=\"1\" class=\"dataframe\"><thead><tr><th>nconst</th><th>primaryName</th><th>birthYear</th><th>deathYear</th><th>primaryProfession</th><th>knownForTitles</th></tr><tr><td>str</td><td>str</td><td>str</td><td>str</td><td>str</td><td>str</td></tr></thead><tbody><tr><td>&quot;nm0000001&quot;</td><td>&quot;Fred Astaire&quot;</td><td>&quot;1899&quot;</td><td>&quot;1987&quot;</td><td>&quot;actor,miscellaneous,producer&quot;</td><td>&quot;tt0072308,tt0050419,tt0053137,…</td></tr><tr><td>&quot;nm0000002&quot;</td><td>&quot;Lauren Bacall&quot;</td><td>&quot;1924&quot;</td><td>&quot;2014&quot;</td><td>&quot;actress,soundtrack,archive_foo…</td><td>&quot;tt0037382,tt0075213,tt0117057,…</td></tr><tr><td>&quot;nm0000003&quot;</td><td>&quot;Brigitte Bardot&quot;</td><td>&quot;1934&quot;</td><td>null</td><td>&quot;actress,music_department,produ…</td><td>&quot;tt0057345,tt0049189,tt0056404,…</td></tr><tr><td>&quot;nm0000004&quot;</td><td>&quot;John Belushi&quot;</td><td>&quot;1949&quot;</td><td>&quot;1982&quot;</td><td>&quot;actor,writer,music_department&quot;</td><td>&quot;tt0072562,tt0077975,tt0080455,…</td></tr><tr><td>&quot;nm0000005&quot;</td><td>&quot;Ingmar Bergman&quot;</td><td>&quot;1918&quot;</td><td>&quot;2007&quot;</td><td>&quot;writer,director,actor&quot;</td><td>&quot;tt0050986,tt0083922,tt0050976,…</td></tr></tbody></table></div>"
      ],
      "text/plain": [
       "shape: (5, 6)\n",
       "┌───────────┬─────────────────┬───────────┬───────────┬──────────────────────┬─────────────────────┐\n",
       "│ nconst    ┆ primaryName     ┆ birthYear ┆ deathYear ┆ primaryProfession    ┆ knownForTitles      │\n",
       "│ ---       ┆ ---             ┆ ---       ┆ ---       ┆ ---                  ┆ ---                 │\n",
       "│ str       ┆ str             ┆ str       ┆ str       ┆ str                  ┆ str                 │\n",
       "╞═══════════╪═════════════════╪═══════════╪═══════════╪══════════════════════╪═════════════════════╡\n",
       "│ nm0000001 ┆ Fred Astaire    ┆ 1899      ┆ 1987      ┆ actor,miscellaneous, ┆ tt0072308,tt0050419 │\n",
       "│           ┆                 ┆           ┆           ┆ producer             ┆ ,tt0053137,…        │\n",
       "│ nm0000002 ┆ Lauren Bacall   ┆ 1924      ┆ 2014      ┆ actress,soundtrack,a ┆ tt0037382,tt0075213 │\n",
       "│           ┆                 ┆           ┆           ┆ rchive_foo…          ┆ ,tt0117057,…        │\n",
       "│ nm0000003 ┆ Brigitte Bardot ┆ 1934      ┆ null      ┆ actress,music_depart ┆ tt0057345,tt0049189 │\n",
       "│           ┆                 ┆           ┆           ┆ ment,produ…          ┆ ,tt0056404,…        │\n",
       "│ nm0000004 ┆ John Belushi    ┆ 1949      ┆ 1982      ┆ actor,writer,music_d ┆ tt0072562,tt0077975 │\n",
       "│           ┆                 ┆           ┆           ┆ epartment            ┆ ,tt0080455,…        │\n",
       "│ nm0000005 ┆ Ingmar Bergman  ┆ 1918      ┆ 2007      ┆ writer,director,acto ┆ tt0050986,tt0083922 │\n",
       "│           ┆                 ┆           ┆           ┆ r                    ┆ ,tt0050976,…        │\n",
       "└───────────┴─────────────────┴───────────┴───────────┴──────────────────────┴─────────────────────┘"
      ]
     },
     "execution_count": 19,
     "metadata": {},
     "output_type": "execute_result"
    }
   ],
   "source": [
    "df_polars_names.head(5)"
   ]
  },
  {
   "cell_type": "code",
   "execution_count": 20,
   "metadata": {},
   "outputs": [
    {
     "data": {
      "text/html": [
       "<div><style>\n",
       ".dataframe > thead > tr,\n",
       ".dataframe > tbody > tr {\n",
       "  text-align: right;\n",
       "  white-space: pre-wrap;\n",
       "}\n",
       "</style>\n",
       "<small>shape: (5, 4)</small><table border=\"1\" class=\"dataframe\"><thead><tr><th>nconst</th><th>profession1</th><th>profession2</th><th>profession3</th></tr><tr><td>str</td><td>str</td><td>str</td><td>str</td></tr></thead><tbody><tr><td>&quot;nm0000001&quot;</td><td>&quot;actor&quot;</td><td>&quot;miscellaneous&quot;</td><td>&quot;producer&quot;</td></tr><tr><td>&quot;nm0000002&quot;</td><td>&quot;actress&quot;</td><td>&quot;soundtrack&quot;</td><td>&quot;archive_footage&quot;</td></tr><tr><td>&quot;nm0000003&quot;</td><td>&quot;actress&quot;</td><td>&quot;music_department&quot;</td><td>&quot;producer&quot;</td></tr><tr><td>&quot;nm0000004&quot;</td><td>&quot;actor&quot;</td><td>&quot;writer&quot;</td><td>&quot;music_department&quot;</td></tr><tr><td>&quot;nm0000005&quot;</td><td>&quot;writer&quot;</td><td>&quot;director&quot;</td><td>&quot;actor&quot;</td></tr></tbody></table></div>"
      ],
      "text/plain": [
       "shape: (5, 4)\n",
       "┌───────────┬─────────────┬──────────────────┬──────────────────┐\n",
       "│ nconst    ┆ profession1 ┆ profession2      ┆ profession3      │\n",
       "│ ---       ┆ ---         ┆ ---              ┆ ---              │\n",
       "│ str       ┆ str         ┆ str              ┆ str              │\n",
       "╞═══════════╪═════════════╪══════════════════╪══════════════════╡\n",
       "│ nm0000001 ┆ actor       ┆ miscellaneous    ┆ producer         │\n",
       "│ nm0000002 ┆ actress     ┆ soundtrack       ┆ archive_footage  │\n",
       "│ nm0000003 ┆ actress     ┆ music_department ┆ producer         │\n",
       "│ nm0000004 ┆ actor       ┆ writer           ┆ music_department │\n",
       "│ nm0000005 ┆ writer      ┆ director         ┆ actor            │\n",
       "└───────────┴─────────────┴──────────────────┴──────────────────┘"
      ]
     },
     "execution_count": 20,
     "metadata": {},
     "output_type": "execute_result"
    }
   ],
   "source": [
    "df_polars_profession.head(5)"
   ]
  },
  {
   "cell_type": "code",
   "execution_count": 21,
   "metadata": {},
   "outputs": [
    {
     "name": "stdout",
     "output_type": "stream",
     "text": [
      "┌───────────┬─────────────────┬───────────┬───────────┬──────────────────────┬─────────────────────────────────────────┐\n",
      "│  nconst   │   primaryName   │ birthYear │ deathYear │  primaryProfession   │             knownForTitles              │\n",
      "│  varchar  │     varchar     │  varchar  │  varchar  │       varchar        │                 varchar                 │\n",
      "├───────────┼─────────────────┼───────────┼───────────┼──────────────────────┼─────────────────────────────────────────┤\n",
      "│ nm0000001 │ Fred Astaire    │ 1899      │ 1987      │ actor,miscellaneou…  │ tt0072308,tt0050419,tt0053137,tt0027125 │\n",
      "│ nm0000002 │ Lauren Bacall   │ 1924      │ 2014      │ actress,soundtrack…  │ tt0037382,tt0075213,tt0117057,tt0038355 │\n",
      "│ nm0000003 │ Brigitte Bardot │ 1934      │ NULL      │ actress,music_depa…  │ tt0057345,tt0049189,tt0056404,tt0054452 │\n",
      "│ nm0000004 │ John Belushi    │ 1949      │ 1982      │ actor,writer,music…  │ tt0072562,tt0077975,tt0080455,tt0078723 │\n",
      "│ nm0000005 │ Ingmar Bergman  │ 1918      │ 2007      │ writer,director,ac…  │ tt0050986,tt0083922,tt0050976,tt0069467 │\n",
      "└───────────┴─────────────────┴───────────┴───────────┴──────────────────────┴─────────────────────────────────────────┘\n",
      "\n"
     ]
    }
   ],
   "source": [
    "duckdb.sql(\"\"\"\n",
    "    SELECT *\n",
    "    FROM df_duckdb_names\n",
    "    LIMIT 5\n",
    "\"\"\").show() "
   ]
  },
  {
   "cell_type": "code",
   "execution_count": 22,
   "metadata": {},
   "outputs": [
    {
     "name": "stdout",
     "output_type": "stream",
     "text": [
      "┌───────────┬─────────────┬──────────────────┬──────────────────┐\n",
      "│  nconst   │ profession1 │   profession2    │   profession3    │\n",
      "│  varchar  │   varchar   │     varchar      │     varchar      │\n",
      "├───────────┼─────────────┼──────────────────┼──────────────────┤\n",
      "│ nm0000001 │ actor       │ miscellaneous    │ producer         │\n",
      "│ nm0000002 │ actress     │ soundtrack       │ archive_footage  │\n",
      "│ nm0000003 │ actress     │ music_department │ producer         │\n",
      "│ nm0000004 │ actor       │ writer           │ music_department │\n",
      "│ nm0000005 │ writer      │ director         │ actor            │\n",
      "└───────────┴─────────────┴──────────────────┴──────────────────┘\n",
      "\n"
     ]
    }
   ],
   "source": [
    "duckdb.sql(\"\"\"\n",
    "    SELECT *\n",
    "    FROM df_duckdb_profession\n",
    "    LIMIT 5\n",
    "\"\"\").show() "
   ]
  }
 ],
 "metadata": {
  "kernelspec": {
   "display_name": ".venv",
   "language": "python",
   "name": "python3"
  },
  "language_info": {
   "codemirror_mode": {
    "name": "ipython",
    "version": 3
   },
   "file_extension": ".py",
   "mimetype": "text/x-python",
   "name": "python",
   "nbconvert_exporter": "python",
   "pygments_lexer": "ipython3",
   "version": "3.11.9"
  }
 },
 "nbformat": 4,
 "nbformat_minor": 2
}
