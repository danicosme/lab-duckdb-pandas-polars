{
 "cells": [
  {
   "cell_type": "code",
   "execution_count": 1,
   "metadata": {},
   "outputs": [],
   "source": [
    "import duckdb\n",
    "import pandas as pd\n",
    "import polars as pl"
   ]
  },
  {
   "cell_type": "code",
   "execution_count": 2,
   "metadata": {},
   "outputs": [],
   "source": [
    "csv_names_dir = 'data/input/names.csv'"
   ]
  },
  {
   "cell_type": "markdown",
   "metadata": {},
   "source": [
    "# Leitura de arquivo .csv"
   ]
  },
  {
   "cell_type": "code",
   "execution_count": 3,
   "metadata": {},
   "outputs": [],
   "source": [
    "df_pandas_names = pd.read_csv(csv_names_dir)"
   ]
  },
  {
   "cell_type": "code",
   "execution_count": 4,
   "metadata": {},
   "outputs": [],
   "source": [
    "df_polars_names = pl.read_csv(csv_names_dir)"
   ]
  },
  {
   "cell_type": "code",
   "execution_count": 5,
   "metadata": {},
   "outputs": [],
   "source": [
    "duckdb.sql(f\"\"\" DROP TABLE IF EXISTS df_duckdb_names;\n",
    "                       \"\"\")\n",
    "\n",
    "duckdb.sql(f\"\"\"\n",
    "                        CREATE TABLE df_duckdb_names AS \n",
    "                        SELECT * FROM '{csv_names_dir}'\n",
    "                       \"\"\")"
   ]
  },
  {
   "cell_type": "markdown",
   "metadata": {},
   "source": [
    "# Replace valores \\N"
   ]
  },
  {
   "cell_type": "markdown",
   "metadata": {},
   "source": [
    "Pandas"
   ]
  },
  {
   "cell_type": "code",
   "execution_count": 6,
   "metadata": {},
   "outputs": [
    {
     "name": "stdout",
     "output_type": "stream",
     "text": [
      "nconst:  0\n",
      "primaryName:  48\n",
      "birthYear:  12770823\n",
      "deathYear:  13166298\n",
      "primaryProfession:  2565021\n",
      "knownForTitles:  1470866\n"
     ]
    }
   ],
   "source": [
    "for column in df_pandas_names.columns:\n",
    "    print(f'{column}: ', df_pandas_names.query(f\"{column} == '\\\\\\\\N'\")[column].count())"
   ]
  },
  {
   "cell_type": "code",
   "execution_count": 7,
   "metadata": {},
   "outputs": [],
   "source": [
    "df_pandas_names = df_pandas_names.replace('\\\\\\\\N', None, regex=True)"
   ]
  },
  {
   "cell_type": "markdown",
   "metadata": {},
   "source": [
    "Polars"
   ]
  },
  {
   "cell_type": "code",
   "execution_count": 8,
   "metadata": {},
   "outputs": [
    {
     "name": "stdout",
     "output_type": "stream",
     "text": [
      "nconst:  shape: (1, 1)\n",
      "┌────────┐\n",
      "│ nconst │\n",
      "│ ---    │\n",
      "│ u32    │\n",
      "╞════════╡\n",
      "│ 0      │\n",
      "└────────┘\n",
      "primaryName:  shape: (1, 1)\n",
      "┌─────────────┐\n",
      "│ primaryName │\n",
      "│ ---         │\n",
      "│ u32         │\n",
      "╞═════════════╡\n",
      "│ 48          │\n",
      "└─────────────┘\n",
      "birthYear:  shape: (1, 1)\n",
      "┌───────────┐\n",
      "│ birthYear │\n",
      "│ ---       │\n",
      "│ u32       │\n",
      "╞═══════════╡\n",
      "│ 12770823  │\n",
      "└───────────┘\n",
      "deathYear:  shape: (1, 1)\n",
      "┌───────────┐\n",
      "│ deathYear │\n",
      "│ ---       │\n",
      "│ u32       │\n",
      "╞═══════════╡\n",
      "│ 13166298  │\n",
      "└───────────┘\n",
      "primaryProfession:  shape: (1, 1)\n",
      "┌───────────────────┐\n",
      "│ primaryProfession │\n",
      "│ ---               │\n",
      "│ u32               │\n",
      "╞═══════════════════╡\n",
      "│ 2565021           │\n",
      "└───────────────────┘\n",
      "knownForTitles:  shape: (1, 1)\n",
      "┌────────────────┐\n",
      "│ knownForTitles │\n",
      "│ ---            │\n",
      "│ u32            │\n",
      "╞════════════════╡\n",
      "│ 1470866        │\n",
      "└────────────────┘\n"
     ]
    }
   ],
   "source": [
    "for column in df_polars_names.columns:\n",
    "    print(f'{column}: ', df_polars_names.select(pl.col(column)).filter(pl.col(column) == '\\\\N').count())"
   ]
  },
  {
   "cell_type": "code",
   "execution_count": 9,
   "metadata": {},
   "outputs": [],
   "source": [
    "df_polars_names = df_polars_names.with_columns(pl.all().replace('\\\\N', None))"
   ]
  },
  {
   "cell_type": "markdown",
   "metadata": {},
   "source": [
    "DuckDB"
   ]
  },
  {
   "cell_type": "code",
   "execution_count": 10,
   "metadata": {},
   "outputs": [
    {
     "name": "stdout",
     "output_type": "stream",
     "text": [
      "┌────────┬─────────────┬───────────┬───────────┬───────────────────┬────────────────┐\n",
      "│ nconst │ primaryName │ birthYear │ deathYear │ primaryProfession │ knownForTitles │\n",
      "│ int128 │   int128    │  int128   │  int128   │      int128       │     int128     │\n",
      "├────────┼─────────────┼───────────┼───────────┼───────────────────┼────────────────┤\n",
      "│      0 │          48 │  12770823 │  13166298 │           2565021 │        1470866 │\n",
      "└────────┴─────────────┴───────────┴───────────┴───────────────────┴────────────────┘\n",
      "\n"
     ]
    }
   ],
   "source": [
    "duckdb.sql(\"\"\"\n",
    "    SELECT \n",
    "            SUM(CASE WHEN nconst             == '\\\\N' THEN 1 ELSE 0 END) AS nconst\n",
    "           ,SUM(CASE WHEN primaryName        == '\\\\N' THEN 1 ELSE 0 END) AS primaryName\n",
    "           ,SUM(CASE WHEN birthYear          == '\\\\N' THEN 1 ELSE 0 END) AS birthYear\n",
    "           ,SUM(CASE WHEN deathYear          == '\\\\N' THEN 1 ELSE 0 END) AS deathYear\n",
    "           ,SUM(CASE WHEN primaryProfession  == '\\\\N' THEN 1 ELSE 0 END) AS primaryProfession\n",
    "           ,SUM(CASE WHEN knownForTitles     == '\\\\N' THEN 1 ELSE 0 END) AS knownForTitles\n",
    "    FROM df_duckdb_names \n",
    "\"\"\").show()"
   ]
  },
  {
   "cell_type": "code",
   "execution_count": 11,
   "metadata": {},
   "outputs": [],
   "source": [
    "duckdb.sql(\"\"\"\n",
    "    UPDATE df_duckdb_names\n",
    "    SET \n",
    "           nconst               = CASE WHEN nconst              == '\\\\N' THEN NULL ELSE nconst END,\n",
    "           primaryName          = CASE WHEN primaryName         == '\\\\N' THEN NULL ELSE primaryName END,\n",
    "           birthYear            = CASE WHEN birthYear           == '\\\\N' THEN NULL ELSE birthYear END,\n",
    "           deathYear            = CASE WHEN deathYear           == '\\\\N' THEN NULL ELSE deathYear END,\n",
    "           primaryProfession    = CASE WHEN primaryProfession   == '\\\\N' THEN NULL ELSE primaryProfession END,\n",
    "           knownForTitles       = CASE WHEN knownForTitles      == '\\\\N' THEN NULL ELSE knownForTitles END;\n",
    "\"\"\")"
   ]
  },
  {
   "cell_type": "markdown",
   "metadata": {},
   "source": [
    "# Criando tabela profession"
   ]
  },
  {
   "cell_type": "markdown",
   "metadata": {},
   "source": [
    "DuckDB"
   ]
  },
  {
   "cell_type": "code",
   "execution_count": 12,
   "metadata": {},
   "outputs": [],
   "source": [
    "duckdb.sql(\"\"\"\n",
    "    CREATE TABLE IF NOT EXISTS df_duckdb_profession AS\n",
    "    SELECT \n",
    "           nconst,\n",
    "           SPLIT_PART(primaryProfession, ',', 1) AS profession1,\n",
    "           SPLIT_PART(primaryProfession, ',', 2) AS profession2,\n",
    "           SPLIT_PART(primaryProfession, ',', 3) AS profession3\n",
    "    FROM df_duckdb_names\n",
    "\"\"\")"
   ]
  },
  {
   "cell_type": "code",
   "execution_count": 13,
   "metadata": {},
   "outputs": [
    {
     "data": {
      "text/plain": [
       "┌───────────┬─────────────┬──────────────────┬──────────────────┐\n",
       "│  nconst   │ profession1 │   profession2    │   profession3    │\n",
       "│  varchar  │   varchar   │     varchar      │     varchar      │\n",
       "├───────────┼─────────────┼──────────────────┼──────────────────┤\n",
       "│ nm0000001 │ actor       │ miscellaneous    │ producer         │\n",
       "│ nm0000002 │ actress     │ soundtrack       │ archive_footage  │\n",
       "│ nm0000003 │ actress     │ music_department │ producer         │\n",
       "│ nm0000004 │ actor       │ writer           │ music_department │\n",
       "│ nm0000005 │ writer      │ director         │ actor            │\n",
       "│ nm0000006 │ actress     │ producer         │ soundtrack       │\n",
       "│ nm0000007 │ actor       │ producer         │ miscellaneous    │\n",
       "│ nm0000008 │ actor       │ director         │ writer           │\n",
       "│ nm0000009 │ actor       │ producer         │ director         │\n",
       "│ nm0000010 │ actor       │ director         │ producer         │\n",
       "├───────────┴─────────────┴──────────────────┴──────────────────┤\n",
       "│ 10 rows                                             4 columns │\n",
       "└───────────────────────────────────────────────────────────────┘"
      ]
     },
     "execution_count": 13,
     "metadata": {},
     "output_type": "execute_result"
    }
   ],
   "source": [
    "duckdb.sql(\"\"\"\n",
    "    SELECT * FROM df_duckdb_profession LIMIT 10;\n",
    "\"\"\")"
   ]
  },
  {
   "cell_type": "markdown",
   "metadata": {},
   "source": [
    "# Amostra"
   ]
  },
  {
   "cell_type": "code",
   "execution_count": 14,
   "metadata": {},
   "outputs": [
    {
     "data": {
      "text/html": [
       "<div>\n",
       "<style scoped>\n",
       "    .dataframe tbody tr th:only-of-type {\n",
       "        vertical-align: middle;\n",
       "    }\n",
       "\n",
       "    .dataframe tbody tr th {\n",
       "        vertical-align: top;\n",
       "    }\n",
       "\n",
       "    .dataframe thead th {\n",
       "        text-align: right;\n",
       "    }\n",
       "</style>\n",
       "<table border=\"1\" class=\"dataframe\">\n",
       "  <thead>\n",
       "    <tr style=\"text-align: right;\">\n",
       "      <th></th>\n",
       "      <th>nconst</th>\n",
       "      <th>primaryName</th>\n",
       "      <th>birthYear</th>\n",
       "      <th>deathYear</th>\n",
       "      <th>primaryProfession</th>\n",
       "      <th>knownForTitles</th>\n",
       "    </tr>\n",
       "  </thead>\n",
       "  <tbody>\n",
       "    <tr>\n",
       "      <th>0</th>\n",
       "      <td>nm0000001</td>\n",
       "      <td>Fred Astaire</td>\n",
       "      <td>1899</td>\n",
       "      <td>1987</td>\n",
       "      <td>actor,miscellaneous,producer</td>\n",
       "      <td>tt0072308,tt0050419,tt0053137,tt0027125</td>\n",
       "    </tr>\n",
       "    <tr>\n",
       "      <th>1</th>\n",
       "      <td>nm0000002</td>\n",
       "      <td>Lauren Bacall</td>\n",
       "      <td>1924</td>\n",
       "      <td>2014</td>\n",
       "      <td>actress,soundtrack,archive_footage</td>\n",
       "      <td>tt0037382,tt0075213,tt0117057,tt0038355</td>\n",
       "    </tr>\n",
       "    <tr>\n",
       "      <th>2</th>\n",
       "      <td>nm0000003</td>\n",
       "      <td>Brigitte Bardot</td>\n",
       "      <td>1934</td>\n",
       "      <td>None</td>\n",
       "      <td>actress,music_department,producer</td>\n",
       "      <td>tt0057345,tt0049189,tt0056404,tt0054452</td>\n",
       "    </tr>\n",
       "    <tr>\n",
       "      <th>3</th>\n",
       "      <td>nm0000004</td>\n",
       "      <td>John Belushi</td>\n",
       "      <td>1949</td>\n",
       "      <td>1982</td>\n",
       "      <td>actor,writer,music_department</td>\n",
       "      <td>tt0072562,tt0077975,tt0080455,tt0078723</td>\n",
       "    </tr>\n",
       "    <tr>\n",
       "      <th>4</th>\n",
       "      <td>nm0000005</td>\n",
       "      <td>Ingmar Bergman</td>\n",
       "      <td>1918</td>\n",
       "      <td>2007</td>\n",
       "      <td>writer,director,actor</td>\n",
       "      <td>tt0050986,tt0083922,tt0050976,tt0069467</td>\n",
       "    </tr>\n",
       "  </tbody>\n",
       "</table>\n",
       "</div>"
      ],
      "text/plain": [
       "      nconst      primaryName birthYear deathYear  \\\n",
       "0  nm0000001     Fred Astaire      1899      1987   \n",
       "1  nm0000002    Lauren Bacall      1924      2014   \n",
       "2  nm0000003  Brigitte Bardot      1934      None   \n",
       "3  nm0000004     John Belushi      1949      1982   \n",
       "4  nm0000005   Ingmar Bergman      1918      2007   \n",
       "\n",
       "                    primaryProfession                           knownForTitles  \n",
       "0        actor,miscellaneous,producer  tt0072308,tt0050419,tt0053137,tt0027125  \n",
       "1  actress,soundtrack,archive_footage  tt0037382,tt0075213,tt0117057,tt0038355  \n",
       "2   actress,music_department,producer  tt0057345,tt0049189,tt0056404,tt0054452  \n",
       "3       actor,writer,music_department  tt0072562,tt0077975,tt0080455,tt0078723  \n",
       "4               writer,director,actor  tt0050986,tt0083922,tt0050976,tt0069467  "
      ]
     },
     "execution_count": 14,
     "metadata": {},
     "output_type": "execute_result"
    }
   ],
   "source": [
    "df_pandas_names.head(5)"
   ]
  },
  {
   "cell_type": "code",
   "execution_count": 15,
   "metadata": {},
   "outputs": [
    {
     "data": {
      "text/html": [
       "<div><style>\n",
       ".dataframe > thead > tr,\n",
       ".dataframe > tbody > tr {\n",
       "  text-align: right;\n",
       "  white-space: pre-wrap;\n",
       "}\n",
       "</style>\n",
       "<small>shape: (5, 6)</small><table border=\"1\" class=\"dataframe\"><thead><tr><th>nconst</th><th>primaryName</th><th>birthYear</th><th>deathYear</th><th>primaryProfession</th><th>knownForTitles</th></tr><tr><td>str</td><td>str</td><td>str</td><td>str</td><td>str</td><td>str</td></tr></thead><tbody><tr><td>&quot;nm0000001&quot;</td><td>&quot;Fred Astaire&quot;</td><td>&quot;1899&quot;</td><td>&quot;1987&quot;</td><td>&quot;actor,miscellaneous,producer&quot;</td><td>&quot;tt0072308,tt0050419,tt0053137,…</td></tr><tr><td>&quot;nm0000002&quot;</td><td>&quot;Lauren Bacall&quot;</td><td>&quot;1924&quot;</td><td>&quot;2014&quot;</td><td>&quot;actress,soundtrack,archive_foo…</td><td>&quot;tt0037382,tt0075213,tt0117057,…</td></tr><tr><td>&quot;nm0000003&quot;</td><td>&quot;Brigitte Bardot&quot;</td><td>&quot;1934&quot;</td><td>null</td><td>&quot;actress,music_department,produ…</td><td>&quot;tt0057345,tt0049189,tt0056404,…</td></tr><tr><td>&quot;nm0000004&quot;</td><td>&quot;John Belushi&quot;</td><td>&quot;1949&quot;</td><td>&quot;1982&quot;</td><td>&quot;actor,writer,music_department&quot;</td><td>&quot;tt0072562,tt0077975,tt0080455,…</td></tr><tr><td>&quot;nm0000005&quot;</td><td>&quot;Ingmar Bergman&quot;</td><td>&quot;1918&quot;</td><td>&quot;2007&quot;</td><td>&quot;writer,director,actor&quot;</td><td>&quot;tt0050986,tt0083922,tt0050976,…</td></tr></tbody></table></div>"
      ],
      "text/plain": [
       "shape: (5, 6)\n",
       "┌───────────┬─────────────────┬───────────┬───────────┬──────────────────────┬─────────────────────┐\n",
       "│ nconst    ┆ primaryName     ┆ birthYear ┆ deathYear ┆ primaryProfession    ┆ knownForTitles      │\n",
       "│ ---       ┆ ---             ┆ ---       ┆ ---       ┆ ---                  ┆ ---                 │\n",
       "│ str       ┆ str             ┆ str       ┆ str       ┆ str                  ┆ str                 │\n",
       "╞═══════════╪═════════════════╪═══════════╪═══════════╪══════════════════════╪═════════════════════╡\n",
       "│ nm0000001 ┆ Fred Astaire    ┆ 1899      ┆ 1987      ┆ actor,miscellaneous, ┆ tt0072308,tt0050419 │\n",
       "│           ┆                 ┆           ┆           ┆ producer             ┆ ,tt0053137,…        │\n",
       "│ nm0000002 ┆ Lauren Bacall   ┆ 1924      ┆ 2014      ┆ actress,soundtrack,a ┆ tt0037382,tt0075213 │\n",
       "│           ┆                 ┆           ┆           ┆ rchive_foo…          ┆ ,tt0117057,…        │\n",
       "│ nm0000003 ┆ Brigitte Bardot ┆ 1934      ┆ null      ┆ actress,music_depart ┆ tt0057345,tt0049189 │\n",
       "│           ┆                 ┆           ┆           ┆ ment,produ…          ┆ ,tt0056404,…        │\n",
       "│ nm0000004 ┆ John Belushi    ┆ 1949      ┆ 1982      ┆ actor,writer,music_d ┆ tt0072562,tt0077975 │\n",
       "│           ┆                 ┆           ┆           ┆ epartment            ┆ ,tt0080455,…        │\n",
       "│ nm0000005 ┆ Ingmar Bergman  ┆ 1918      ┆ 2007      ┆ writer,director,acto ┆ tt0050986,tt0083922 │\n",
       "│           ┆                 ┆           ┆           ┆ r                    ┆ ,tt0050976,…        │\n",
       "└───────────┴─────────────────┴───────────┴───────────┴──────────────────────┴─────────────────────┘"
      ]
     },
     "execution_count": 15,
     "metadata": {},
     "output_type": "execute_result"
    }
   ],
   "source": [
    "df_polars_names.head(5)"
   ]
  },
  {
   "cell_type": "code",
   "execution_count": 16,
   "metadata": {},
   "outputs": [
    {
     "name": "stdout",
     "output_type": "stream",
     "text": [
      "┌───────────┬─────────────────┬───────────┬───────────┬──────────────────────┬─────────────────────────────────────────┐\n",
      "│  nconst   │   primaryName   │ birthYear │ deathYear │  primaryProfession   │             knownForTitles              │\n",
      "│  varchar  │     varchar     │  varchar  │  varchar  │       varchar        │                 varchar                 │\n",
      "├───────────┼─────────────────┼───────────┼───────────┼──────────────────────┼─────────────────────────────────────────┤\n",
      "│ nm0000001 │ Fred Astaire    │ 1899      │ 1987      │ actor,miscellaneou…  │ tt0072308,tt0050419,tt0053137,tt0027125 │\n",
      "│ nm0000002 │ Lauren Bacall   │ 1924      │ 2014      │ actress,soundtrack…  │ tt0037382,tt0075213,tt0117057,tt0038355 │\n",
      "│ nm0000003 │ Brigitte Bardot │ 1934      │ NULL      │ actress,music_depa…  │ tt0057345,tt0049189,tt0056404,tt0054452 │\n",
      "│ nm0000004 │ John Belushi    │ 1949      │ 1982      │ actor,writer,music…  │ tt0072562,tt0077975,tt0080455,tt0078723 │\n",
      "│ nm0000005 │ Ingmar Bergman  │ 1918      │ 2007      │ writer,director,ac…  │ tt0050986,tt0083922,tt0050976,tt0069467 │\n",
      "└───────────┴─────────────────┴───────────┴───────────┴──────────────────────┴─────────────────────────────────────────┘\n",
      "\n"
     ]
    }
   ],
   "source": [
    "duckdb.sql(\"\"\"\n",
    "    SELECT *\n",
    "    FROM df_duckdb_names\n",
    "    LIMIT 5\n",
    "\"\"\").show() "
   ]
  }
 ],
 "metadata": {
  "kernelspec": {
   "display_name": ".venv",
   "language": "python",
   "name": "python3"
  },
  "language_info": {
   "codemirror_mode": {
    "name": "ipython",
    "version": 3
   },
   "file_extension": ".py",
   "mimetype": "text/x-python",
   "name": "python",
   "nbconvert_exporter": "python",
   "pygments_lexer": "ipython3",
   "version": "3.11.9"
  }
 },
 "nbformat": 4,
 "nbformat_minor": 2
}
